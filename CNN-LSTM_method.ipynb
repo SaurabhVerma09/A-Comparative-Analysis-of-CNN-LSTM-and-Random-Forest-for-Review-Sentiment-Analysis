{
  "nbformat": 4,
  "nbformat_minor": 0,
  "metadata": {
    "colab": {
      "provenance": [],
      "gpuType": "T4"
    },
    "kernelspec": {
      "name": "python3",
      "display_name": "Python 3"
    },
    "language_info": {
      "name": "python"
    },
    "accelerator": "GPU"
  },
  "cells": [
    {
      "cell_type": "code",
      "execution_count": null,
      "metadata": {
        "colab": {
          "base_uri": "https://localhost:8080/"
        },
        "id": "rSfwtkhJnXA4",
        "outputId": "c52d2374-8cb1-400e-eff3-06f0ae269877"
      },
      "outputs": [
        {
          "output_type": "stream",
          "name": "stderr",
          "text": [
            "[nltk_data] Downloading package stopwords to /root/nltk_data...\n"
          ]
        },
        {
          "output_type": "stream",
          "name": "stdout",
          "text": [
            "['i', 'me', 'my', 'myself', 'we', 'our', 'ours', 'ourselves', 'you', \"you're\", \"you've\", \"you'll\", \"you'd\", 'your', 'yours', 'yourself', 'yourselves', 'he', 'him', 'his', 'himself', 'she', \"she's\", 'her', 'hers', 'herself', 'it', \"it's\", 'its', 'itself', 'they', 'them', 'their', 'theirs', 'themselves', 'what', 'which', 'who', 'whom', 'this', 'that', \"that'll\", 'these', 'those', 'am', 'is', 'are', 'was', 'were', 'be', 'been', 'being', 'have', 'has', 'had', 'having', 'do', 'does', 'did', 'doing', 'a', 'an', 'the', 'and', 'but', 'if', 'or', 'because', 'as', 'until', 'while', 'of', 'at', 'by', 'for', 'with', 'about', 'against', 'between', 'into', 'through', 'during', 'before', 'after', 'above', 'below', 'to', 'from', 'up', 'down', 'in', 'out', 'on', 'off', 'over', 'under', 'again', 'further', 'then', 'once', 'here', 'there', 'when', 'where', 'why', 'how', 'all', 'any', 'both', 'each', 'few', 'more', 'most', 'other', 'some', 'such', 'no', 'nor', 'not', 'only', 'own', 'same', 'so', 'than', 'too', 'very', 's', 't', 'can', 'will', 'just', 'don', \"don't\", 'should', \"should've\", 'now', 'd', 'll', 'm', 'o', 're', 've', 'y', 'ain', 'aren', \"aren't\", 'couldn', \"couldn't\", 'didn', \"didn't\", 'doesn', \"doesn't\", 'hadn', \"hadn't\", 'hasn', \"hasn't\", 'haven', \"haven't\", 'isn', \"isn't\", 'ma', 'mightn', \"mightn't\", 'mustn', \"mustn't\", 'needn', \"needn't\", 'shan', \"shan't\", 'shouldn', \"shouldn't\", 'wasn', \"wasn't\", 'weren', \"weren't\", 'won', \"won't\", 'wouldn', \"wouldn't\"]\n"
          ]
        },
        {
          "output_type": "stream",
          "name": "stderr",
          "text": [
            "[nltk_data]   Unzipping corpora/stopwords.zip.\n"
          ]
        }
      ],
      "source": [
        "import numpy as np\n",
        "import bz2\n",
        "import re\n",
        "import gc\n",
        "import tensorflow as tf\n",
        "from sklearn.model_selection import train_test_split\n",
        "from sklearn.metrics import accuracy_score, f1_score, roc_auc_score, confusion_matrix, roc_curve, auc, precision_score, recall_score\n",
        "import matplotlib.pyplot as plt\n",
        "import seaborn as sns\n",
        "import collections\n",
        "import nltk\n",
        "from nltk.corpus import stopwords\n",
        "from nltk.tokenize import word_tokenize\n",
        "\n",
        "nltk.download('stopwords')\n",
        "print(stopwords.words('english'))"
      ]
    },
    {
      "cell_type": "code",
      "source": [
        "def read_bz2(file):\n",
        "    labels = []\n",
        "    comments = []\n",
        "    for line in bz2.BZ2File(file):\n",
        "        x = line.decode(\"utf-8\")\n",
        "        labels.append(int(x[9]) - 1)\n",
        "        comments.append(x[10:].strip())\n",
        "    return np.array(labels), comments"
      ],
      "metadata": {
        "id": "vd9e5gX_sx2t"
      },
      "execution_count": null,
      "outputs": []
    },
    {
      "cell_type": "code",
      "source": [
        "def remove_stopwords(texts):\n",
        "    stop_words = set(stopwords.words('english'))\n",
        "    word_tokens = word_tokenize(texts)\n",
        "    filtered_sentence = [w for w in word_tokens if not w.lower() in stop_words]\n",
        "    clean_text = ' '.join(filtered_sentence)\n",
        "    return clean_text"
      ],
      "metadata": {
        "id": "pOAiKLRbs3ZI"
      },
      "execution_count": null,
      "outputs": []
    },
    {
      "cell_type": "code",
      "source": [
        "def process_comments(texts):\n",
        "    processed_comments = []\n",
        "    for text in texts:\n",
        "        lowercase = text.lower()\n",
        "        clean_punctuation = non_alphanumeric.sub(r' ', lowercase)\n",
        "        clean_anomalies = non_ascii.sub(r'', clean_punctuation)\n",
        "        clean_stopwords = remove_stopwords(clean_anomalies)\n",
        "        processed_comments.append(clean_stopwords)\n",
        "    return processed_comments"
      ],
      "metadata": {
        "id": "V8cr6vwns7fG"
      },
      "execution_count": null,
      "outputs": []
    },
    {
      "cell_type": "code",
      "source": [
        "# Function to build vocabulary and map words to numbers (Bag-of-word)\n",
        "def build_vocab(texts, max_features):\n",
        "    counter = collections.Counter()\n",
        "    for text in texts:\n",
        "        counter.update(text.split())\n",
        "    vocab = {word: i+1 for i, (word, _) in enumerate(counter.most_common(max_features))}\n",
        "    return vocab"
      ],
      "metadata": {
        "id": "X9MYWd6ctEVU"
      },
      "execution_count": null,
      "outputs": []
    },
    {
      "cell_type": "code",
      "source": [
        "# Function to convert text to sequence of numbers\n",
        "def convert_sequence(texts, vocab):\n",
        "    sequences = []\n",
        "    for text in texts:\n",
        "        sequences.append([vocab.get(word, 0) for word in text.split()])\n",
        "    return sequences"
      ],
      "metadata": {
        "id": "yiGF5rdStJLU"
      },
      "execution_count": null,
      "outputs": []
    },
    {
      "cell_type": "code",
      "source": [
        "# Function to convert text to sequence of numbers\n",
        "def convert_sequence(texts, vocab):\n",
        "    sequences = []\n",
        "    for text in texts:\n",
        "        sequences.append([vocab.get(word, 0) for word in text.split()])\n",
        "    return sequences\n",
        "# Function to pad sequences\n",
        "def pad_sequences(sequences, maxlen):\n",
        "    padded_sequences = np.zeros((len(sequences), maxlen), dtype=int)\n",
        "\n",
        "    for i, seq in enumerate(sequences):\n",
        "        if len(seq) > 0:\n",
        "            if len(seq) > maxlen:\n",
        "                padded_sequences[i] = seq[:maxlen]\n",
        "            else:\n",
        "                padded_sequences[i, -len(seq):] = seq\n",
        "    return padded_sequences"
      ],
      "metadata": {
        "id": "X8GLLjXOtKs0"
      },
      "execution_count": null,
      "outputs": []
    },
    {
      "cell_type": "code",
      "source": [
        "class CustomLSTM(tf.Module):\n",
        "    def __init__(self, input_size, hidden_size):\n",
        "        super().__init__()\n",
        "        self.input_size = input_size\n",
        "        self.hidden_size = hidden_size\n",
        "\n",
        "        # Initialize weights and biases\n",
        "        self.W_i = tf.Variable(tf.random.truncated_normal([input_size, hidden_size], stddev=0.1), name='W_i')\n",
        "        self.U_i = tf.Variable(tf.random.truncated_normal([hidden_size, hidden_size], stddev=0.1), name='U_i')\n",
        "        self.b_i = tf.Variable(tf.zeros([hidden_size]), name='b_i')\n",
        "        self.W_f = tf.Variable(tf.random.truncated_normal([input_size, hidden_size], stddev=0.1), name='W_f')\n",
        "        self.U_f = tf.Variable(tf.random.truncated_normal([hidden_size, hidden_size], stddev=0.1), name='U_f')\n",
        "        self.b_f = tf.Variable(tf.zeros([hidden_size]), name='b_f')\n",
        "\n",
        "        self.W_o = tf.Variable(tf.random.truncated_normal([input_size, hidden_size], stddev=0.1), name='W_o')\n",
        "        self.U_o = tf.Variable(tf.random.truncated_normal([hidden_size, hidden_size], stddev=0.1), name='U_o')\n",
        "        self.b_o = tf.Variable(tf.zeros([hidden_size]), name='b_o')\n",
        "\n",
        "        self.W_c = tf.Variable(tf.random.truncated_normal([input_size, hidden_size], stddev=0.1), name='W_c')\n",
        "        self.U_c = tf.Variable(tf.random.truncated_normal([hidden_size, hidden_size], stddev=0.1), name='U_c')\n",
        "        self.b_c = tf.Variable(tf.zeros([hidden_size]), name='b_c')\n",
        "\n",
        "    def __call__(self, x, prev_hidden_state, prev_cell_state):\n",
        "       input_gate = tf.sigmoid(tf.matmul(x, self.W_i) + tf.matmul(prev_hidden_state, self.U_i) + self.b_i)\n",
        "       forget_gate = tf.sigmoid(tf.matmul(x, self.W_f) + tf.matmul(prev_hidden_state, self.U_f) + self.b_f)\n",
        "       output_gate = tf.sigmoid(tf.matmul(x, self.W_o) + tf.matmul(prev_hidden_state, self.U_o) + self.b_o)\n",
        "       candidate_cell_state = tf.tanh(tf.matmul(x, self.W_c) + tf.matmul(prev_hidden_state, self.U_c) + self.b_c)\n",
        "\n",
        "       cell_state = forget_gate * prev_cell_state + input_gate * candidate_cell_state\n",
        "       hidden_state = output_gate * tf.tanh(cell_state)\n",
        "\n",
        "       return hidden_state, cell_state\n",
        "\n",
        "class HybridLSTMCNN(tf.Module):\n",
        "   def __init__(self, vocab_size, embedding_dim, lstm_hidden_size, conv_filters, dense_units, dropout_rate=0.5, l2_lambda=0.01):\n",
        "        super().__init__()\n",
        "        self.embedding = tf.Variable(tf.random.uniform([vocab_size, embedding_dim], -1.0, 1.0), name='embedding')\n",
        "        self.lstm = CustomLSTM(embedding_dim, lstm_hidden_size)\n",
        "        self.conv1d_1 = tf.Variable(tf.random.truncated_normal([3, lstm_hidden_size, conv_filters[0]], stddev=0.1), name='conv1d_1')\n",
        "        self.conv1d_2 = tf.Variable(tf.random.truncated_normal([3, conv_filters[0], conv_filters[1]], stddev=0.1), name='conv1d_2')\n",
        "        self.conv1d_3 = tf.Variable(tf.random.truncated_normal([3, conv_filters[1], conv_filters[2]], stddev=0.1), name='conv1d_3')\n",
        "        self.dense_1 = tf.Variable(tf.random.truncated_normal([conv_filters[2], dense_units[0]], stddev=0.1), name='dense_1')\n",
        "        self.dense_2 = tf.Variable(tf.random.truncated_normal([dense_units[0], dense_units[1]], stddev=0.1), name='dense_2')\n",
        "        self.dense_3 = tf.Variable(tf.random.truncated_normal([dense_units[1], 1], stddev=0.1), name='dense_3')\n",
        "\n",
        "        self.bias_1 = tf.Variable(tf.zeros([conv_filters[0]]), name='bias_1')\n",
        "        self.bias_2 = tf.Variable(tf.zeros([conv_filters[1]]), name='bias_2')\n",
        "        self.bias_3 = tf.Variable(tf.zeros([conv_filters[2]]), name='bias_3')\n",
        "        self.bias_4 = tf.Variable(tf.zeros([dense_units[0]]), name='bias_4')\n",
        "        self.bias_5 = tf.Variable(tf.zeros([dense_units[1]]), name='bias_5')\n",
        "        self.bias_6 = tf.Variable(tf.zeros([1]), name='bias_6')\n",
        "\n",
        "        self.l2_lambda = l2_lambda\n",
        "\n",
        "   def __call__(self, inputs, training=False):\n",
        "        x = tf.nn.embedding_lookup(self.embedding, inputs)\n",
        "\n",
        "        # Initialize initial hidden state and cell state\n",
        "        batch_size = tf.shape(inputs)[0]\n",
        "        initial_hidden_state = tf.zeros([batch_size, self.lstm.hidden_size])\n",
        "        initial_cell_state = tf.zeros([batch_size, self.lstm.hidden_size])\n",
        "\n",
        "        # Iterate through time steps\n",
        "        for t in range(x.shape[1]):\n",
        "            current_input = x[:, t, :]\n",
        "            hidden_state, cell_state = self.lstm(current_input, initial_hidden_state, initial_cell_state)\n",
        "            initial_hidden_state = hidden_state\n",
        "            initial_cell_state = cell_state\n",
        "\n",
        "        x = tf.expand_dims(hidden_state, axis=1)  # Expand dimensions to match Conv1D input\n",
        "\n",
        "        x = tf.nn.conv1d(x, self.conv1d_1, stride=1, padding='SAME')\n",
        "        x = tf.nn.relu(x + self.bias_1)\n",
        "        x = tf.nn.conv1d(x, self.conv1d_2, stride=1, padding='SAME')\n",
        "        x = tf.nn.relu(x + self.bias_2)\n",
        "\n",
        "        x = tf.nn.conv1d(x, self.conv1d_3, stride=1, padding='SAME')\n",
        "        x = tf.nn.relu(x + self.bias_3)\n",
        "\n",
        "        x = tf.reshape(x, [-1, self.conv1d_3.shape[-1] * x.shape[1]])\n",
        "\n",
        "        x = tf.matmul(x, self.dense_1) + self.bias_4\n",
        "        x = tf.nn.relu(x)\n",
        "        x = tf.nn.dropout(x, dropout_rate) if training else x\n",
        "\n",
        "        x = tf.matmul(x, self.dense_2) + self.bias_5\n",
        "        x = tf.nn.relu(x)\n",
        "        x = tf.nn.dropout(x, dropout_rate) if training else x\n",
        "\n",
        "        x = tf.matmul(x, self.dense_3) + self.bias_6\n",
        "        x = tf.nn.sigmoid(x)\n",
        "        return x"
      ],
      "metadata": {
        "id": "BlNSrU9xtObw"
      },
      "execution_count": null,
      "outputs": []
    },
    {
      "cell_type": "code",
      "source": [
        "class CustomLSTM(tf.Module):\n",
        "    def __init__(self, input_size, hidden_size):\n",
        "        super().__init__()\n",
        "        self.input_size = input_size\n",
        "        self.hidden_size = hidden_size\n",
        "\n",
        "        # Initialize weights and biases\n",
        "        self.W_i = tf.Variable(tf.random.truncated_normal([input_size, hidden_size], stddev=0.1), name='W_i')\n",
        "        self.U_i = tf.Variable(tf.random.truncated_normal([hidden_size, hidden_size], stddev=0.1), name='U_i')\n",
        "        self.b_i = tf.Variable(tf.zeros([hidden_size]), name='b_i')\n",
        "\n",
        "        self.W_f = tf.Variable(tf.random.truncated_normal([input_size, hidden_size], stddev=0.1), name='W_f')\n",
        "        self.U_f = tf.Variable(tf.random.truncated_normal([hidden_size, hidden_size], stddev=0.1), name='U_f')\n",
        "        self.b_f = tf.Variable(tf.zeros([hidden_size]), name='b_f')\n",
        "        self.W_o = tf.Variable(tf.random.truncated_normal([input_size, hidden_size], stddev=0.1), name='W_o')\n",
        "        self.U_o = tf.Variable(tf.random.truncated_normal([hidden_size, hidden_size], stddev=0.1), name='U_o')\n",
        "        self.b_o = tf.Variable(tf.zeros([hidden_size]), name='b_o')\n",
        "\n",
        "        self.W_c = tf.Variable(tf.random.truncated_normal([input_size, hidden_size], stddev=0.1), name='W_c')\n",
        "        self.U_c = tf.Variable(tf.random.truncated_normal([hidden_size, hidden_size], stddev=0.1), name='U_c')\n",
        "        self.b_c = tf.Variable(tf.zeros([hidden_size]), name='b_c')\n",
        "\n",
        "    def __call__(self, x, prev_hidden_state, prev_cell_state):\n",
        "        input_gate = tf.sigmoid(tf.matmul(x, self.W_i) + tf.matmul(prev_hidden_state, self.U_i) + self.b_i)\n",
        "        forget_gate = tf.sigmoid(tf.matmul(x, self.W_f) + tf.matmul(prev_hidden_state, self.U_f) + self.b_f)\n",
        "        output_gate = tf.sigmoid(tf.matmul(x, self.W_o) + tf.matmul(prev_hidden_state, self.U_o) + self.b_o)\n",
        "        candidate_cell_state = tf.tanh(tf.matmul(x, self.W_c) + tf.matmul(prev_hidden_state, self.U_c) + self.b_c)\n",
        "\n",
        "        cell_state = forget_gate * prev_cell_state + input_gate * candidate_cell_state\n",
        "        hidden_state = output_gate * tf.tanh(cell_state)\n",
        "\n",
        "        return hidden_state, cell_state\n",
        "\n",
        "class HybridLSTMCNN(tf.Module):\n",
        "    def __init__(self, vocab_size, embedding_dim, lstm_hidden_size, conv_filters, dense_units, dropout_rate=0.5, l2_lambda=0.01):\n",
        "        super().__init__()\n",
        "        self.embedding = tf.Variable(tf.random.uniform([vocab_size, embedding_dim], -1.0, 1.0), name='embedding')\n",
        "        self.lstm = CustomLSTM(embedding_dim, lstm_hidden_size)\n",
        "        self.conv1d_1 = tf.Variable(tf.random.truncated_normal([3, lstm_hidden_size, conv_filters[0]], stddev=0.1), name='conv1d_1')\n",
        "        self.conv1d_2 = tf.Variable(tf.random.truncated_normal([3, conv_filters[0], conv_filters[1]], stddev=0.1), name='conv1d_2')\n",
        "        self.conv1d_3 = tf.Variable(tf.random.truncated_normal([3, conv_filters[1], conv_filters[2]], stddev=0.1), name='conv1d_3')\n",
        "        self.dense_1 = tf.Variable(tf.random.truncated_normal([conv_filters[2], dense_units[0]], stddev=0.1), name='dense_1')\n",
        "        self.dense_2 = tf.Variable(tf.random.truncated_normal([dense_units[0], dense_units[1]], stddev=0.1), name='dense_2')\n",
        "        self.dense_3 = tf.Variable(tf.random.truncated_normal([dense_units[1], 1], stddev=0.1), name='dense_3')\n",
        "\n",
        "        self.dropout = tf.keras.layers.Dropout(dropout_rate)\n",
        "\n",
        "        self.bias_1 = tf.Variable(tf.zeros([conv_filters[0]]), name='bias_1')\n",
        "        self.bias_2 = tf.Variable(tf.zeros([conv_filters[1]]), name='bias_2')\n",
        "        self.bias_3 = tf.Variable(tf.zeros([conv_filters[2]]), name='bias_3')\n",
        "        self.bias_4 = tf.Variable(tf.zeros([dense_units[0]]), name='bias_4')\n",
        "        self.bias_5 = tf.Variable(tf.zeros([dense_units[1]]), name='bias_5')\n",
        "        self.bias_6 = tf.Variable(tf.zeros([1]), name='bias_6')\n",
        "\n",
        "        self.l2_lambda = l2_lambda\n",
        "\n",
        "    def __call__(self, inputs, training=False):\n",
        "        x = tf.nn.embedding_lookup(self.embedding, inputs)\n",
        "\n",
        "        # Initialize initial hidden state and cell state\n",
        "        batch_size = tf.shape(inputs)[0]\n",
        "        initial_hidden_state = tf.zeros([batch_size, self.lstm.hidden_size])\n",
        "        initial_cell_state = tf.zeros([batch_size, self.lstm.hidden_size])\n",
        "\n",
        "        # Iterate through time steps\n",
        "        for t in range(x.shape[1]):\n",
        "            current_input = x[:, t, :]\n",
        "            hidden_state, cell_state = self.lstm(current_input, initial_hidden_state, initial_cell_state)\n",
        "            initial_hidden_state = hidden_state\n",
        "            initial_cell_state = cell_state\n",
        "\n",
        "        x = tf.expand_dims(hidden_state, axis=1)  # Expand dimensions to match Conv1D input\n",
        "\n",
        "        x = tf.nn.conv1d(x, self.conv1d_1, stride=1, padding='SAME')\n",
        "        x = tf.nn.relu(x + self.bias_1)\n",
        "\n",
        "        x = tf.nn.conv1d(x, self.conv1d_2, stride=1, padding='SAME')\n",
        "        x = tf.nn.relu(x + self.bias_2)\n",
        "\n",
        "        x = tf.nn.conv1d(x, self.conv1d_3, stride=1, padding='SAME')\n",
        "        x = tf.nn.relu(x + self.bias_3)\n",
        "\n",
        "        x = tf.reshape(x, [-1, self.conv1d_3.shape[-1] * x.shape[1]])\n",
        "\n",
        "        x = tf.matmul(x, self.dense_1) + self.bias_4\n",
        "        x = tf.nn.relu(x)\n",
        "        x = self.dropout(x, training=training)\n",
        "\n",
        "        x = tf.matmul(x, self.dense_2) + self.bias_5\n",
        "        x = tf.nn.relu(x)\n",
        "        x = self.dropout(x, training=training)\n",
        "\n",
        "        x = tf.matmul(x, self.dense_3) + self.bias_6\n",
        "        x = tf.nn.sigmoid(x)\n",
        "        return x\n",
        "\n",
        "    def l2_loss(self):\n",
        "        l2_loss = tf.nn.l2_loss(self.dense_1) + tf.nn.l2_loss(self.dense_2) + tf.nn.l2_loss(self.dense_3)\n",
        "        return self.l2_lambda * l2_loss\n",
        "\n",
        "# Parameters\n",
        "vocab_size = 10000\n",
        "embedding_dim = 100\n",
        "lstm_hidden_size = 500\n",
        "conv_filters = [512, 256, 128]\n",
        "dense_units = [128, 128]\n",
        "dropout_rate = 0.5\n",
        "\n",
        "# Create the model\n",
        "model = HybridLSTMCNN(vocab_size, embedding_dim, lstm_hidden_size, conv_filters, dense_units,\n",
        "                      dropout_rate)\n",
        "\n",
        "# Example input\n",
        "inputs = tf.random.uniform([32, 100], maxval=vocab_size, dtype=tf.int32)\n",
        "\n",
        "# Forward pass during training (enable dropout)\n",
        "output_train = model(inputs, training=True)\n",
        "print(\"Output during training:\", output_train)\n",
        "\n",
        "# Forward pass during inference (disable dropout)\n",
        "output_inference = model(inputs, training=False)\n",
        "print(\"Output during inference:\", output_inference)"
      ],
      "metadata": {
        "colab": {
          "base_uri": "https://localhost:8080/"
        },
        "id": "1vV8I-jdu_XZ",
        "outputId": "ccf93356-10ae-488c-9901-80d527519325"
      },
      "execution_count": null,
      "outputs": [
        {
          "output_type": "stream",
          "name": "stdout",
          "text": [
            "Output during training: tf.Tensor(\n",
            "[[0.5015288 ]\n",
            " [0.5440229 ]\n",
            " [0.48643526]\n",
            " [0.50229806]\n",
            " [0.5243328 ]\n",
            " [0.4658257 ]\n",
            " [0.5674018 ]\n",
            " [0.5674016 ]\n",
            " [0.5429079 ]\n",
            " [0.546146  ]\n",
            " [0.51423955]\n",
            " [0.5224988 ]\n",
            " [0.47516078]\n",
            " [0.52968985]\n",
            " [0.44693068]\n",
            " [0.48534524]\n",
            " [0.34373873]\n",
            " [0.36070874]\n",
            " [0.40561688]\n",
            " [0.42740902]\n",
            " [0.448782  ]\n",
            " [0.56996626]\n",
            " [0.53825176]\n",
            " [0.42425144]\n",
            " [0.5270524 ]\n",
            " [0.51964617]\n",
            " [0.4113785 ]\n",
            " [0.48454344]\n",
            " [0.3726019 ]\n",
            " [0.52967817]\n",
            " [0.48259294]\n",
            " [0.5147799 ]], shape=(32, 1), dtype=float32)\n",
            "Output during inference: tf.Tensor(\n",
            "[[0.50437355]\n",
            " [0.52203053]\n",
            " [0.4818186 ]\n",
            " [0.5268959 ]\n",
            " [0.4918839 ]\n",
            " [0.5343233 ]\n",
            " [0.51945597]\n",
            " [0.50629467]\n",
            " [0.5034582 ]\n",
            " [0.47714674]\n",
            " [0.481928  ]\n",
            " [0.4952155 ]\n",
            " [0.5254006 ]\n",
            " [0.5147542 ]\n",
            " [0.46474767]\n",
            " [0.5057418 ]\n",
            " [0.48477262]\n",
            " [0.47758147]\n",
            " [0.5208998 ]\n",
            " [0.49041435]\n",
            " [0.50561845]\n",
            " [0.4891441 ]\n",
            " [0.5277707 ]\n",
            " [0.4842907 ]\n",
            " [0.4817823 ]\n",
            " [0.4903724 ]\n",
            " [0.497713  ]\n",
            " [0.49351308]\n",
            " [0.50271434]\n",
            " [0.4924315 ]\n",
            " [0.5050158 ]\n",
            " [0.514867  ]], shape=(32, 1), dtype=float32)\n"
          ]
        }
      ]
    },
    {
      "cell_type": "code",
      "source": [
        "def generator(features, labels):\n",
        "    for feature, label in zip(features, labels):\n",
        "        yield feature, label"
      ],
      "metadata": {
        "id": "b91JUVDrv9ij"
      },
      "execution_count": null,
      "outputs": []
    },
    {
      "cell_type": "code",
      "source": [
        "non_alphanumeric = re.compile(r'[\\W]')\n",
        "non_ascii = re.compile(r'[^a-z0-1\\s]')"
      ],
      "metadata": {
        "id": "ugRvLAdNwB1l"
      },
      "execution_count": null,
      "outputs": []
    },
    {
      "cell_type": "code",
      "source": [
        "train_labels, train_comments = read_bz2('/content/test.ft.txt.bz2')\n",
        "test_labels, test_comments = read_bz2('/content/test.ft.txt.bz2')"
      ],
      "metadata": {
        "id": "Htn4Qk5OwE9e"
      },
      "execution_count": null,
      "outputs": []
    },
    {
      "cell_type": "code",
      "source": [
        "!pip install nltk\n",
        "import nltk\n",
        "nltk.download('punkt_tab')"
      ],
      "metadata": {
        "colab": {
          "base_uri": "https://localhost:8080/"
        },
        "id": "4phrmybGxTl9",
        "outputId": "4cd3a082-31ed-4560-e635-98d6fc10f056"
      },
      "execution_count": null,
      "outputs": [
        {
          "output_type": "stream",
          "name": "stdout",
          "text": [
            "Requirement already satisfied: nltk in /usr/local/lib/python3.10/dist-packages (3.9.1)\n",
            "Requirement already satisfied: click in /usr/local/lib/python3.10/dist-packages (from nltk) (8.1.7)\n",
            "Requirement already satisfied: joblib in /usr/local/lib/python3.10/dist-packages (from nltk) (1.4.2)\n",
            "Requirement already satisfied: regex>=2021.8.3 in /usr/local/lib/python3.10/dist-packages (from nltk) (2024.11.6)\n",
            "Requirement already satisfied: tqdm in /usr/local/lib/python3.10/dist-packages (from nltk) (4.67.1)\n"
          ]
        },
        {
          "output_type": "stream",
          "name": "stderr",
          "text": [
            "[nltk_data] Downloading package punkt_tab to /root/nltk_data...\n",
            "[nltk_data]   Unzipping tokenizers/punkt_tab.zip.\n"
          ]
        },
        {
          "output_type": "execute_result",
          "data": {
            "text/plain": [
              "True"
            ]
          },
          "metadata": {},
          "execution_count": 13
        }
      ]
    },
    {
      "cell_type": "code",
      "source": [
        "train_comments = process_comments(train_comments)\n",
        "test_comments = process_comments(test_comments)"
      ],
      "metadata": {
        "id": "lDS5bjiZxJvJ"
      },
      "execution_count": null,
      "outputs": []
    },
    {
      "cell_type": "code",
      "source": [
        "train_comments[0]\n",
        "# Use all available labels for the split\n",
        "train_comments, val_comments, train_labels, val_labels = train_test_split(train_comments, train_labels, random_state=42, test_size=0.2)\n",
        "max_features = 20000\n",
        "vocab = build_vocab(train_comments, max_features)"
      ],
      "metadata": {
        "id": "yFcWnGJvyd39"
      },
      "execution_count": null,
      "outputs": []
    },
    {
      "cell_type": "code",
      "source": [
        "train_comments_sequence = convert_sequence(train_comments, vocab)\n",
        "val_comments_sequence = convert_sequence(val_comments, vocab)\n",
        "test_comments_sequence = convert_sequence(test_comments, vocab)\n",
        "\n",
        "maximum_length = max(max(len(sequence) for sequence in train_comments_sequence if sequence),\n",
        "                     max(len(sequence) for sequence in val_comments_sequence if sequence),\n",
        "                     max(len(sequence) for sequence in test_comments_sequence if sequence))"
      ],
      "metadata": {
        "id": "ZC9NvBms0WCf",
        "colab": {
          "base_uri": "https://localhost:8080/"
        },
        "outputId": "113b40d8-c090-4202-9e12-4f922a17ab2c"
      },
      "execution_count": null,
      "outputs": [
        {
          "output_type": "stream",
          "name": "stderr",
          "text": [
            "Exception ignored in: <function _xla_gc_callback at 0x7a6a5271b130>\n",
            "Traceback (most recent call last):\n",
            "  File \"/usr/local/lib/python3.10/dist-packages/jax/_src/lib/__init__.py\", line 96, in _xla_gc_callback\n",
            "    def _xla_gc_callback(*args):\n",
            "KeyboardInterrupt: \n"
          ]
        }
      ]
    },
    {
      "cell_type": "code",
      "source": [
        "maximum_length = max(len(seq) for seq in train_comments_sequence)\n",
        "train_comments_padded = pad_sequences(train_comments_sequence, maximum_length)\n",
        "val_comments_padded = pad_sequences(val_comments_sequence, maximum_length)\n",
        "test_comments_padded = pad_sequences(test_comments_sequence, maximum_length)"
      ],
      "metadata": {
        "id": "rWRMzu5d0fQ4"
      },
      "execution_count": null,
      "outputs": []
    },
    {
      "cell_type": "code",
      "source": [
        "print(\"Train data size:\", len(train_comments_padded))\n",
        "print(\"Validation data size:\", len(val_comments_padded))\n",
        "print(\"Test data size:\", len(test_comments_padded))"
      ],
      "metadata": {
        "colab": {
          "base_uri": "https://localhost:8080/"
        },
        "id": "rn3dF1lk0jo-",
        "outputId": "c46f0baf-949b-4c93-c8f3-d4b2c4b289c4"
      },
      "execution_count": null,
      "outputs": [
        {
          "output_type": "stream",
          "name": "stdout",
          "text": [
            "Train data size: 320000\n",
            "Validation data size: 80000\n",
            "Test data size: 400000\n"
          ]
        }
      ]
    },
    {
      "cell_type": "code",
      "source": [
        "import seaborn as sns\n",
        "# count plot on single categorical variable\n",
        "fig, axs = plt.subplots(1, 2, figsize=(20, 10))\n",
        "\n",
        "sns.countplot(x = train_labels, palette='viridis', ax=axs[0])\n",
        "plt.xlabel(\"Value\")\n",
        "plt.ylabel(\"Occurrence\")\n",
        "plt.title(\"Bar Chart of Train Labels\")\n",
        "\n",
        "sns.countplot(x = test_labels, palette='viridis', ax=axs[1])\n",
        "\n",
        "axs[0].set_xlabel('Labels')\n",
        "axs[0].set_ylabel('Count')\n",
        "\n",
        "axs[1].set_xlabel('Labels')\n",
        "axs[1].set_ylabel('Count')\n",
        "\n",
        "axs[0].set_title('Bar Chart of Train Labels')\n",
        "axs[1].set_title('Bar Chart of Test Labels')\n",
        "\n",
        "# Show the plot\n",
        "plt.show()\n"
      ],
      "metadata": {
        "colab": {
          "base_uri": "https://localhost:8080/",
          "height": 557
        },
        "id": "_tCxzBHp0mo6",
        "outputId": "282b7361-53ea-4697-de95-d452f1ed5ac2"
      },
      "execution_count": null,
      "outputs": [
        {
          "output_type": "stream",
          "name": "stderr",
          "text": [
            "<ipython-input-19-4d28660ada9e>:5: FutureWarning: \n",
            "\n",
            "Passing `palette` without assigning `hue` is deprecated and will be removed in v0.14.0. Assign the `x` variable to `hue` and set `legend=False` for the same effect.\n",
            "\n",
            "  sns.countplot(x = train_labels, palette='viridis', ax=axs[0])\n",
            "<ipython-input-19-4d28660ada9e>:10: FutureWarning: \n",
            "\n",
            "Passing `palette` without assigning `hue` is deprecated and will be removed in v0.14.0. Assign the `x` variable to `hue` and set `legend=False` for the same effect.\n",
            "\n",
            "  sns.countplot(x = test_labels, palette='viridis', ax=axs[1])\n"
          ]
        },
        {
          "output_type": "display_data",
          "data": {
            "text/plain": [
              "<Figure size 2000x1000 with 2 Axes>"
            ],
            "image/png": "[encoded data removed]"
          },
          "metadata": {}
        }
      ]
    },
    {
      "cell_type": "code",
      "source": [
        "train_dataset = tf.data.Dataset.from_generator(\n",
        "    generator,  # provide the generator function\n",
        "    output_types=(tf.int32, tf.int32),\n",
        "    output_shapes=(tf.TensorShape([None]), tf.TensorShape([])),\n",
        "    args=(train_comments_padded, train_labels)  # pass features and labels here\n",
        ")\n",
        "\n",
        "val_dataset = tf.data.Dataset.from_generator(\n",
        "    generator,\n",
        "    output_types=(tf.int32, tf.int32),\n",
        "    output_shapes=(tf.TensorShape([None]), tf.TensorShape([])),\n",
        "    args=(val_comments_padded, val_labels)  # pass validation features and labels\n",
        ")\n",
        "\n",
        "test_dataset = tf.data.Dataset.from_generator(\n",
        "    generator,\n",
        "    output_types=(tf.int32, tf.int32),\n",
        "    output_shapes=(tf.TensorShape([None]), tf.TensorShape([])),\n",
        "    args=(test_comments_padded, test_labels)  # pass test features and labels\n",
        ")"
      ],
      "metadata": {
        "id": "eREmvX7J0sTJ"
      },
      "execution_count": null,
      "outputs": []
    },
    {
      "cell_type": "code",
      "source": [
        "# Batch the datasets\n",
        "batch_size = 1024\n",
        "train_dataset = train_dataset.batch(batch_size)\n",
        "val_dataset = val_dataset.batch(batch_size)\n",
        "test_dataset = test_dataset.batch(batch_size)"
      ],
      "metadata": {
        "id": "8Quf91af03dW"
      },
      "execution_count": null,
      "outputs": []
    },
    {
      "cell_type": "code",
      "source": [
        "gpus = tf.config.list_logical_devices('GPU')\n",
        "gpus"
      ],
      "metadata": {
        "colab": {
          "base_uri": "https://localhost:8080/"
        },
        "id": "kQfmCkJR06nr",
        "outputId": "27829f0e-6065-46c5-cf1a-3a168a55f31a"
      },
      "execution_count": null,
      "outputs": [
        {
          "output_type": "execute_result",
          "data": {
            "text/plain": [
              "[LogicalDevice(name='/device:GPU:0', device_type='GPU')]"
            ]
          },
          "metadata": {},
          "execution_count": 22
        }
      ]
    },
    {
      "cell_type": "code",
      "source": [
        "# Create the model\n",
        "lstm_hidden_size = 500\n",
        "conv_filters = [512, 256, 128]\n",
        "dense_units = [128, 128]\n",
        "dropout_rate = 0.5\n",
        "batch_size = 128\n",
        "learning_rate = 0.001\n",
        "epochs = 2\n",
        "maximum_features = 20000 # Defining maximum_features here\n",
        "\n",
        "\n",
        "with tf.device(gpus[0]):\n",
        "    # Training and validation step functions\n",
        "    # Define metrics\n",
        "    train_loss = tf.keras.metrics.Mean(name='train_loss')\n",
        "    train_accuracy = tf.keras.metrics.BinaryAccuracy(name='train_accuracy')\n",
        "    val_loss = tf.keras.metrics.Mean(name='val_loss')\n",
        "    val_accuracy = tf.keras.metrics.BinaryAccuracy(name='val_accuracy')\n",
        "\n",
        "    @tf.function\n",
        "    def train_step(inputs, labels):\n",
        "        with tf.GradientTape() as tape:\n",
        "            predictions = model_2(inputs, training=True)\n",
        "            loss = loss_object(labels, predictions)\n",
        "        gradients = tape.gradient(loss, model_2.trainable_variables)\n",
        "        optimizer.apply_gradients(zip(gradients, model_2.trainable_variables))\n",
        "        train_loss(loss)\n",
        "        train_accuracy(labels, predictions)\n",
        "\n",
        "    @tf.function\n",
        "    def val_step(inputs, labels):\n",
        "        predictions = model_2(inputs, training=False)\n",
        "        loss = loss_object(labels, predictions)\n",
        "        val_loss(loss)\n",
        "        val_accuracy(labels, predictions)\n",
        "\n",
        "\n",
        "    #Create model\n",
        "    model_2 = HybridLSTMCNN(maximum_features + 1, 64, lstm_hidden_size, conv_filters, dense_units, dropout_rate)\n",
        "\n",
        "    # Define loss and optimizer\n",
        "    loss_object = tf.keras.losses.BinaryCrossentropy(from_logits=True)\n",
        "    optimizer = tf.keras.optimizers.RMSprop(learning_rate = learning_rate)\n",
        "\n",
        "    # Training loop\n",
        "    for epoch in range(epochs):\n",
        "        for inputs, labels in train_dataset:\n",
        "            train_step(inputs, labels)\n",
        "\n",
        "        for val_inputs, val_labels in val_dataset:\n",
        "            val_step(val_inputs, val_labels)\n",
        "\n",
        "        template = 'Epoch {}, Loss: {}, Accuracy: {}, Val Loss: {}, Val Accuracy: {}'\n",
        "        print(template.format(epoch + 1,\n",
        "                              train_loss.result(),\n",
        "                              train_accuracy.result() * 100,\n",
        "                              val_loss.result(),\n",
        "                              val_accuracy.result() * 100))\n",
        "\n",
        "        # Reset the metrics for the next epoch\n",
        "        train_loss.reset_state()\n",
        "        train_accuracy.reset_state()\n",
        "        val_loss.reset_state()\n",
        "        val_accuracy.reset_state()"
      ],
      "metadata": {
        "colab": {
          "base_uri": "https://localhost:8080/"
        },
        "id": "5z4Q9BoT0-iF",
        "outputId": "b80d33aa-09fd-46ee-84cf-6c91c71e6d0f"
      },
      "execution_count": null,
      "outputs": [
        {
          "output_type": "stream",
          "name": "stderr",
          "text": [
            "/usr/local/lib/python3.10/dist-packages/keras/src/backend/tensorflow/nn.py:707: UserWarning: \"`binary_crossentropy` received `from_logits=True`, but the `output` argument was produced by a Sigmoid activation and thus does not represent logits. Was this intended?\n",
            "  output, from_logits = _get_logits(\n"
          ]
        },
        {
          "output_type": "stream",
          "name": "stdout",
          "text": [
            "Epoch 1, Loss: 0.5908161401748657, Accuracy: 67.76374816894531, Val Loss: 0.5208637118339539, Val Accuracy: 76.72875213623047\n",
            "Epoch 2, Loss: 0.4438587725162506, Accuracy: 80.0362548828125, Val Loss: 0.36450469493865967, Val Accuracy: 83.9112548828125\n"
          ]
        }
      ]
    },
    {
      "cell_type": "markdown",
      "source": [
        "Increase batch size because of insufficient amount of GPU .\n",
        "Incresing batch size reduces the accuracy."
      ],
      "metadata": {
        "id": "xWr2_tQNWl4d"
      }
    },
    {
      "cell_type": "code",
      "source": [
        "# Batch prediction to manage memory usage\n",
        "batch_size = 1024\n",
        "test_dataset = tf.data.Dataset.from_tensor_slices(test_comments_padded).batch(batch_size)\n",
        "\n",
        "preds = []\n",
        "for batch in test_dataset:\n",
        "    batch_preds = model_2(batch)\n",
        "    # Convert predictions to the correct format immediately to save memory\n",
        "    batch_preds = [0 if pred <= 0.5 else 1 for pred in batch_preds]\n",
        "    preds.append(batch_preds)\n",
        "\n",
        "# Instead of waiting to concatenate, handle predictions as they come if possible\n",
        "preds = np.concatenate(preds)"
      ],
      "metadata": {
        "id": "-oX_CjQV11uR"
      },
      "execution_count": null,
      "outputs": []
    },
    {
      "cell_type": "code",
      "source": [
        "cm = confusion_matrix(test_labels, preds)\n",
        "\n",
        "plt.figure(figsize=(10, 7))\n",
        "sns.heatmap(cm, annot=True, fmt='d', cmap='Blues', xticklabels=['Negative', 'Positive'], yticklabels=['Negative', 'Positive'])\n",
        "plt.xlabel('Predicted')\n",
        "plt.ylabel('True')\n",
        "plt.title('Confusion Matrix')\n",
        "plt.show()"
      ],
      "metadata": {
        "colab": {
          "base_uri": "https://localhost:8080/",
          "height": 532
        },
        "id": "lUdTYniM1jYV",
        "outputId": "c569af9d-b6e6-4c88-ecf5-7152963c146a"
      },
      "execution_count": null,
      "outputs": [
        {
          "output_type": "display_data",
          "data": {
            "text/plain": [
              "<Figure size 1000x700 with 2 Axes>"
            ],
            "image/png": "[encoded data removed]"
          },
          "metadata": {}
        }
      ]
    },
    {
      "cell_type": "code",
      "source": [
        "fpr, tpr, _ = roc_curve(test_labels, preds)\n",
        "roc_auc = auc(fpr, tpr)\n",
        "\n",
        "plt.figure(figsize=(10, 7))\n",
        "plt.plot(fpr, tpr, label='ROC curve (area = %0.2f)' % roc_auc)\n",
        "plt.plot([0, 1], [0, 1], 'k--')  # Diagonal line\n",
        "plt.xlim([0.0, 1.0])\n",
        "plt.ylim([0.0, 1.05])\n",
        "plt.xlabel('False Positive Rate')\n",
        "plt.ylabel('True Positive Rate')\n",
        "plt.title('Receiver Operating Characteristic (ROC)')\n",
        "plt.legend(loc='lower right')\n",
        "plt.show()"
      ],
      "metadata": {
        "id": "9JaeYrAU19cH",
        "colab": {
          "base_uri": "https://localhost:8080/",
          "height": 504
        },
        "outputId": "e3be21ea-790a-46e2-dc94-75d4e4b0bac7"
      },
      "execution_count": null,
      "outputs": [
        {
          "output_type": "display_data",
          "data": {
            "text/plain": [
              "<Figure size 1000x700 with 1 Axes>"
            ],
            "image/png": "[encoded data removed]"
          },
          "metadata": {}
        }
      ]
    },
    {
      "cell_type": "code",
      "source": [
        "accuracy = accuracy_score(test_labels, preds)\n",
        "f1 = f1_score(test_labels, preds)\n",
        "rocauc = roc_auc_score(test_labels, preds)\n",
        "precision = precision_score(test_labels, preds)\n",
        "recall = recall_score(test_labels, preds)\n",
        "\n",
        "\n",
        "# Print evaluation results\n",
        "print('Accuracy score of the LSTM-CNN Model: {:0.3f}'.format(accuracy))\n",
        "print('F1 score of the LSTM-CNN Model: {:0.3f}'.format(f1))\n",
        "print('ROC AUC score of the LSTM-CNN Model: {:0.3f}'.format(rocauc))\n",
        "print('Precision score of the LSTM-CNN Model: {:0.3f}'.format(precision))\n",
        "print('Recall score of the LSTM-CNN Model: {:0.3f}'.format(recall))"
      ],
      "metadata": {
        "id": "dcHN7_vu2DAp",
        "colab": {
          "base_uri": "https://localhost:8080/"
        },
        "outputId": "bb9dbb0d-02e5-4dd5-efd6-52a4d36df34e"
      },
      "execution_count": null,
      "outputs": [
        {
          "output_type": "stream",
          "name": "stdout",
          "text": [
            "Accuracy score of the LSTM-CNN Model: 0.846\n",
            "F1 score of the LSTM-CNN Model: 0.848\n",
            "ROC AUC score of the LSTM-CNN Model: 0.846\n",
            "Precision score of the LSTM-CNN Model: 0.838\n",
            "Recall score of the LSTM-CNN Model: 0.859\n"
          ]
        }
      ]
    },
    {
      "cell_type": "markdown",
      "source": [
        "Modal Acuuracy :Because of increase the batch size accuracy is less otherwise it more that 95%"
      ],
      "metadata": {
        "id": "7G5qzJCgWIeK"
      }
    },
    {
      "cell_type": "code",
      "source": [
        "def model_inference(model, comment):\n",
        "    if type(comment) is list:\n",
        "        # Call process_comments within model_inference\n",
        "        processed_text = process_comments(comment)\n",
        "        max_len = max(len(sequence) for sequence in processed_text)\n",
        "        sequence = convert_sequence(processed_text, vocab)\n",
        "        padded_sequence = pad_sequences(sequence, max_len)\n",
        "        preds = model(padded_sequence, training=False)\n",
        "\n",
        "        converted_preds = ['Negative' if pred <= 0.5 else 'Positive' for pred in preds]\n",
        "    elif type(comment) is str:\n",
        "        comment = [comment]\n",
        "        # Call process_comments within model_inference\n",
        "        processed_text = process_comments(comment)\n",
        "        max_len = max(len(sequence) for sequence in processed_text)\n",
        "        sequence = convert_sequence(processed_text, vocab)\n",
        "        padded_sequence = pad_sequences(sequence, max_len)\n",
        "        preds = model(padded_sequence, training=False)\n",
        "        converted_preds =  ['Negative' if pred <= 0.5 else 'Positive' for pred in preds]\n",
        "    return converted_preds"
      ],
      "metadata": {
        "id": "3ztEiYUU2G4l"
      },
      "execution_count": null,
      "outputs": []
    },
    {
      "cell_type": "code",
      "source": [
        "comments = [\"This product sucked.\", \"This product is so much fun\", \"Belive me. You will definitely regret if you buy this stuff. The quality is so poor and the packaging is so awful that I'd like to ask other customers how they could review positively for this product.\"]\n",
        "comments"
      ],
      "metadata": {
        "colab": {
          "base_uri": "https://localhost:8080/"
        },
        "id": "GsiGALT9pzlh",
        "outputId": "6e518abf-0734-4e22-ae0a-abfda081f8c4"
      },
      "execution_count": null,
      "outputs": [
        {
          "output_type": "execute_result",
          "data": {
            "text/plain": [
              "['This product sucked.',\n",
              " 'This product is so much fun',\n",
              " \"Belive me. You will definitely regret if you buy this stuff. The quality is so poor and the packaging is so awful that I'd like to ask other customers how they could review positively for this product.\"]"
            ]
          },
          "metadata": {},
          "execution_count": 32
        }
      ]
    },
    {
      "cell_type": "code",
      "source": [
        "model_inference(model_2, comments)"
      ],
      "metadata": {
        "colab": {
          "base_uri": "https://localhost:8080/"
        },
        "id": "W3mepg7Lp4nF",
        "outputId": "587f017a-2d4b-4c7b-9799-b57c49662f30"
      },
      "execution_count": null,
      "outputs": [
        {
          "output_type": "execute_result",
          "data": {
            "text/plain": [
              "['Negative', 'Positive', 'Negative']"
            ]
          },
          "metadata": {},
          "execution_count": 33
        }
      ]
    },
    {
      "cell_type": "code",
      "source": [
        "model_inference(model_2, \"nice product\")"
      ],
      "metadata": {
        "colab": {
          "base_uri": "https://localhost:8080/"
        },
        "id": "nquCZvBjrCr_",
        "outputId": "5a123ebd-88c3-463b-a0e4-32319bb77673"
      },
      "execution_count": null,
      "outputs": [
        {
          "output_type": "execute_result",
          "data": {
            "text/plain": [
              "['Positive']"
            ]
          },
          "metadata": {},
          "execution_count": 37
        }
      ]
    }
  ]
}